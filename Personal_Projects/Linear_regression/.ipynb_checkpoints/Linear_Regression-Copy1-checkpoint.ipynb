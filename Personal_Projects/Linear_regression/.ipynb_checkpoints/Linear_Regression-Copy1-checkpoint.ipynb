{
 "cells": [
  {
   "cell_type": "code",
   "execution_count": null,
   "metadata": {},
   "outputs": [],
   "source": [
    "Predicting the Temperature on the basis humidity By using Linear Regression¶"
   ]
  },
  {
   "cell_type": "code",
   "execution_count": 1,
   "metadata": {},
   "outputs": [],
   "source": [
    "# import libraries \n",
    "import pandas as pd # Import Pandas for data manipulation using dataframes\n",
    "import numpy as np # Import Numpy for data statistical analysis \n",
    "import matplotlib.pyplot as plt # Import matplotlib for data visualisation\n",
    "import seaborn as sns # Statistical data visualization\n",
    "from sklearn.metrics import mean_squared_error,r2_score,mean_absolute_error # Import sklearn for Stat. calculation "
   ]
  },
  {
   "cell_type": "code",
   "execution_count": 2,
   "metadata": {},
   "outputs": [],
   "source": [
    " #read the data using pandas dataframe\n",
    "Weather=pd.read_csv('NORMAL_DLY_sample_csv (1).csv')"
   ]
  },
  {
   "cell_type": "code",
   "execution_count": 3,
   "metadata": {},
   "outputs": [
    {
     "name": "stdout",
     "output_type": "stream",
     "text": [
      "<class 'pandas.core.frame.DataFrame'>\n",
      "RangeIndex: 365 entries, 0 to 364\n",
      "Data columns (total 9 columns):\n",
      "STATION            365 non-null object\n",
      "STATION_NAME       365 non-null object\n",
      "ELEVATION          365 non-null float64\n",
      "LATITUDE           365 non-null float64\n",
      "LONGITUDE          365 non-null float64\n",
      "DATE               365 non-null int64\n",
      "DLY-TMIN-NORMAL    365 non-null int64\n",
      "DLY-TMAX-NORMAL    365 non-null int64\n",
      "MTD-PRCP-NORMAL    365 non-null int64\n",
      "dtypes: float64(3), int64(4), object(2)\n",
      "memory usage: 25.8+ KB\n"
     ]
    }
   ],
   "source": [
    "# Show the dataset information!\n",
    "Weather.info()"
   ]
  },
  {
   "cell_type": "code",
   "execution_count": 4,
   "metadata": {},
   "outputs": [
    {
     "data": {
      "text/html": [
       "<div>\n",
       "<style scoped>\n",
       "    .dataframe tbody tr th:only-of-type {\n",
       "        vertical-align: middle;\n",
       "    }\n",
       "\n",
       "    .dataframe tbody tr th {\n",
       "        vertical-align: top;\n",
       "    }\n",
       "\n",
       "    .dataframe thead th {\n",
       "        text-align: right;\n",
       "    }\n",
       "</style>\n",
       "<table border=\"1\" class=\"dataframe\">\n",
       "  <thead>\n",
       "    <tr style=\"text-align: right;\">\n",
       "      <th></th>\n",
       "      <th>STATION</th>\n",
       "      <th>STATION_NAME</th>\n",
       "      <th>ELEVATION</th>\n",
       "      <th>LATITUDE</th>\n",
       "      <th>LONGITUDE</th>\n",
       "      <th>DATE</th>\n",
       "      <th>DLY-TMIN-NORMAL</th>\n",
       "      <th>DLY-TMAX-NORMAL</th>\n",
       "      <th>MTD-PRCP-NORMAL</th>\n",
       "    </tr>\n",
       "  </thead>\n",
       "  <tbody>\n",
       "    <tr>\n",
       "      <td>0</td>\n",
       "      <td>GHCND:USC00327027</td>\n",
       "      <td>PETERSBURG 2 N ND US</td>\n",
       "      <td>466.3</td>\n",
       "      <td>48.0355</td>\n",
       "      <td>-98.01</td>\n",
       "      <td>20100101</td>\n",
       "      <td>-33</td>\n",
       "      <td>145</td>\n",
       "      <td>2</td>\n",
       "    </tr>\n",
       "    <tr>\n",
       "      <td>1</td>\n",
       "      <td>GHCND:USC00327027</td>\n",
       "      <td>PETERSBURG 2 N ND US</td>\n",
       "      <td>466.3</td>\n",
       "      <td>48.0355</td>\n",
       "      <td>-98.01</td>\n",
       "      <td>20100102</td>\n",
       "      <td>-35</td>\n",
       "      <td>144</td>\n",
       "      <td>4</td>\n",
       "    </tr>\n",
       "    <tr>\n",
       "      <td>2</td>\n",
       "      <td>GHCND:USC00327027</td>\n",
       "      <td>PETERSBURG 2 N ND US</td>\n",
       "      <td>466.3</td>\n",
       "      <td>48.0355</td>\n",
       "      <td>-98.01</td>\n",
       "      <td>20100103</td>\n",
       "      <td>-36</td>\n",
       "      <td>143</td>\n",
       "      <td>5</td>\n",
       "    </tr>\n",
       "    <tr>\n",
       "      <td>3</td>\n",
       "      <td>GHCND:USC00327027</td>\n",
       "      <td>PETERSBURG 2 N ND US</td>\n",
       "      <td>466.3</td>\n",
       "      <td>48.0355</td>\n",
       "      <td>-98.01</td>\n",
       "      <td>20100104</td>\n",
       "      <td>-38</td>\n",
       "      <td>142</td>\n",
       "      <td>7</td>\n",
       "    </tr>\n",
       "    <tr>\n",
       "      <td>4</td>\n",
       "      <td>GHCND:USC00327027</td>\n",
       "      <td>PETERSBURG 2 N ND US</td>\n",
       "      <td>466.3</td>\n",
       "      <td>48.0355</td>\n",
       "      <td>-98.01</td>\n",
       "      <td>20100105</td>\n",
       "      <td>-39</td>\n",
       "      <td>141</td>\n",
       "      <td>9</td>\n",
       "    </tr>\n",
       "  </tbody>\n",
       "</table>\n",
       "</div>"
      ],
      "text/plain": [
       "             STATION          STATION_NAME  ELEVATION  LATITUDE  LONGITUDE  \\\n",
       "0  GHCND:USC00327027  PETERSBURG 2 N ND US      466.3   48.0355     -98.01   \n",
       "1  GHCND:USC00327027  PETERSBURG 2 N ND US      466.3   48.0355     -98.01   \n",
       "2  GHCND:USC00327027  PETERSBURG 2 N ND US      466.3   48.0355     -98.01   \n",
       "3  GHCND:USC00327027  PETERSBURG 2 N ND US      466.3   48.0355     -98.01   \n",
       "4  GHCND:USC00327027  PETERSBURG 2 N ND US      466.3   48.0355     -98.01   \n",
       "\n",
       "       DATE  DLY-TMIN-NORMAL  DLY-TMAX-NORMAL  MTD-PRCP-NORMAL  \n",
       "0  20100101              -33              145                2  \n",
       "1  20100102              -35              144                4  \n",
       "2  20100103              -36              143                5  \n",
       "3  20100104              -38              142                7  \n",
       "4  20100105              -39              141                9  "
      ]
     },
     "execution_count": 4,
     "metadata": {},
     "output_type": "execute_result"
    }
   ],
   "source": [
    "# Show the data head!\n",
    "Weather.head()"
   ]
  },
  {
   "cell_type": "code",
   "execution_count": 5,
   "metadata": {},
   "outputs": [
    {
     "data": {
      "text/html": [
       "<div>\n",
       "<style scoped>\n",
       "    .dataframe tbody tr th:only-of-type {\n",
       "        vertical-align: middle;\n",
       "    }\n",
       "\n",
       "    .dataframe tbody tr th {\n",
       "        vertical-align: top;\n",
       "    }\n",
       "\n",
       "    .dataframe thead th {\n",
       "        text-align: right;\n",
       "    }\n",
       "</style>\n",
       "<table border=\"1\" class=\"dataframe\">\n",
       "  <thead>\n",
       "    <tr style=\"text-align: right;\">\n",
       "      <th></th>\n",
       "      <th>STATION</th>\n",
       "      <th>STATION_NAME</th>\n",
       "      <th>ELEVATION</th>\n",
       "      <th>LATITUDE</th>\n",
       "      <th>LONGITUDE</th>\n",
       "      <th>DATE</th>\n",
       "      <th>DLY-TMIN-NORMAL</th>\n",
       "      <th>DLY-TMAX-NORMAL</th>\n",
       "      <th>MTD-PRCP-NORMAL</th>\n",
       "    </tr>\n",
       "  </thead>\n",
       "  <tbody>\n",
       "    <tr>\n",
       "      <td>360</td>\n",
       "      <td>GHCND:USC00327027</td>\n",
       "      <td>PETERSBURG 2 N ND US</td>\n",
       "      <td>466.3</td>\n",
       "      <td>48.0355</td>\n",
       "      <td>-98.01</td>\n",
       "      <td>20101227</td>\n",
       "      <td>-23</td>\n",
       "      <td>154</td>\n",
       "      <td>64</td>\n",
       "    </tr>\n",
       "    <tr>\n",
       "      <td>361</td>\n",
       "      <td>GHCND:USC00327027</td>\n",
       "      <td>PETERSBURG 2 N ND US</td>\n",
       "      <td>466.3</td>\n",
       "      <td>48.0355</td>\n",
       "      <td>-98.01</td>\n",
       "      <td>20101228</td>\n",
       "      <td>-25</td>\n",
       "      <td>152</td>\n",
       "      <td>67</td>\n",
       "    </tr>\n",
       "    <tr>\n",
       "      <td>362</td>\n",
       "      <td>GHCND:USC00327027</td>\n",
       "      <td>PETERSBURG 2 N ND US</td>\n",
       "      <td>466.3</td>\n",
       "      <td>48.0355</td>\n",
       "      <td>-98.01</td>\n",
       "      <td>20101229</td>\n",
       "      <td>-27</td>\n",
       "      <td>150</td>\n",
       "      <td>69</td>\n",
       "    </tr>\n",
       "    <tr>\n",
       "      <td>363</td>\n",
       "      <td>GHCND:USC00327027</td>\n",
       "      <td>PETERSBURG 2 N ND US</td>\n",
       "      <td>466.3</td>\n",
       "      <td>48.0355</td>\n",
       "      <td>-98.01</td>\n",
       "      <td>20101230</td>\n",
       "      <td>-29</td>\n",
       "      <td>148</td>\n",
       "      <td>71</td>\n",
       "    </tr>\n",
       "    <tr>\n",
       "      <td>364</td>\n",
       "      <td>GHCND:USC00327027</td>\n",
       "      <td>PETERSBURG 2 N ND US</td>\n",
       "      <td>466.3</td>\n",
       "      <td>48.0355</td>\n",
       "      <td>-98.01</td>\n",
       "      <td>20101231</td>\n",
       "      <td>-31</td>\n",
       "      <td>147</td>\n",
       "      <td>73</td>\n",
       "    </tr>\n",
       "  </tbody>\n",
       "</table>\n",
       "</div>"
      ],
      "text/plain": [
       "               STATION          STATION_NAME  ELEVATION  LATITUDE  LONGITUDE  \\\n",
       "360  GHCND:USC00327027  PETERSBURG 2 N ND US      466.3   48.0355     -98.01   \n",
       "361  GHCND:USC00327027  PETERSBURG 2 N ND US      466.3   48.0355     -98.01   \n",
       "362  GHCND:USC00327027  PETERSBURG 2 N ND US      466.3   48.0355     -98.01   \n",
       "363  GHCND:USC00327027  PETERSBURG 2 N ND US      466.3   48.0355     -98.01   \n",
       "364  GHCND:USC00327027  PETERSBURG 2 N ND US      466.3   48.0355     -98.01   \n",
       "\n",
       "         DATE  DLY-TMIN-NORMAL  DLY-TMAX-NORMAL  MTD-PRCP-NORMAL  \n",
       "360  20101227              -23              154               64  \n",
       "361  20101228              -25              152               67  \n",
       "362  20101229              -27              150               69  \n",
       "363  20101230              -29              148               71  \n",
       "364  20101231              -31              147               73  "
      ]
     },
     "execution_count": 5,
     "metadata": {},
     "output_type": "execute_result"
    }
   ],
   "source": [
    "# Show the data tail!\n",
    "Weather.tail()"
   ]
  },
  {
   "cell_type": "code",
   "execution_count": 6,
   "metadata": {},
   "outputs": [
    {
     "data": {
      "text/plain": [
       "STATION               GHCND:USC00327027\n",
       "STATION_NAME       PETERSBURG 2 N ND US\n",
       "ELEVATION                         466.3\n",
       "LATITUDE                        48.0355\n",
       "LONGITUDE                        -98.01\n",
       "DATE                           20100101\n",
       "DLY-TMIN-NORMAL                     -48\n",
       "DLY-TMAX-NORMAL                     138\n",
       "MTD-PRCP-NORMAL                       1\n",
       "dtype: object"
      ]
     },
     "execution_count": 6,
     "metadata": {},
     "output_type": "execute_result"
    }
   ],
   "source": [
    "# Show the minimum value of dataset!\n",
    "Weather.min()"
   ]
  },
  {
   "cell_type": "code",
   "execution_count": 7,
   "metadata": {},
   "outputs": [
    {
     "data": {
      "text/plain": [
       "STATION               GHCND:USC00327027\n",
       "STATION_NAME       PETERSBURG 2 N ND US\n",
       "ELEVATION                         466.3\n",
       "LATITUDE                        48.0355\n",
       "LONGITUDE                        -98.01\n",
       "DATE                           20101231\n",
       "DLY-TMIN-NORMAL                     567\n",
       "DLY-TMAX-NORMAL                     805\n",
       "MTD-PRCP-NORMAL                     376\n",
       "dtype: object"
      ]
     },
     "execution_count": 7,
     "metadata": {},
     "output_type": "execute_result"
    }
   ],
   "source": [
    "# Show the max value of dataset!\n",
    "Weather.max()"
   ]
  },
  {
   "cell_type": "code",
   "execution_count": 8,
   "metadata": {},
   "outputs": [
    {
     "data": {
      "text/plain": [
       "ELEVATION          4.663000e+02\n",
       "LATITUDE           4.803550e+01\n",
       "LONGITUDE         -9.801000e+01\n",
       "DATE               2.010067e+07\n",
       "DLY-TMIN-NORMAL    2.820356e+02\n",
       "DLY-TMAX-NORMAL    4.931863e+02\n",
       "MTD-PRCP-NORMAL    8.759178e+01\n",
       "dtype: float64"
      ]
     },
     "execution_count": 8,
     "metadata": {},
     "output_type": "execute_result"
    }
   ],
   "source": [
    "# mean of dataset\n",
    "Weather.mean()"
   ]
  },
  {
   "cell_type": "code",
   "execution_count": 9,
   "metadata": {},
   "outputs": [
    {
     "data": {
      "text/html": [
       "<div>\n",
       "<style scoped>\n",
       "    .dataframe tbody tr th:only-of-type {\n",
       "        vertical-align: middle;\n",
       "    }\n",
       "\n",
       "    .dataframe tbody tr th {\n",
       "        vertical-align: top;\n",
       "    }\n",
       "\n",
       "    .dataframe thead th {\n",
       "        text-align: right;\n",
       "    }\n",
       "</style>\n",
       "<table border=\"1\" class=\"dataframe\">\n",
       "  <thead>\n",
       "    <tr style=\"text-align: right;\">\n",
       "      <th></th>\n",
       "      <th>ELEVATION</th>\n",
       "      <th>LATITUDE</th>\n",
       "      <th>LONGITUDE</th>\n",
       "      <th>DATE</th>\n",
       "      <th>DLY-TMIN-NORMAL</th>\n",
       "      <th>DLY-TMAX-NORMAL</th>\n",
       "      <th>MTD-PRCP-NORMAL</th>\n",
       "    </tr>\n",
       "  </thead>\n",
       "  <tbody>\n",
       "    <tr>\n",
       "      <td>count</td>\n",
       "      <td>3.650000e+02</td>\n",
       "      <td>3.650000e+02</td>\n",
       "      <td>3.650000e+02</td>\n",
       "      <td>3.650000e+02</td>\n",
       "      <td>365.000000</td>\n",
       "      <td>365.000000</td>\n",
       "      <td>365.000000</td>\n",
       "    </tr>\n",
       "    <tr>\n",
       "      <td>mean</td>\n",
       "      <td>4.663000e+02</td>\n",
       "      <td>4.803550e+01</td>\n",
       "      <td>-9.801000e+01</td>\n",
       "      <td>2.010067e+07</td>\n",
       "      <td>282.035616</td>\n",
       "      <td>493.186301</td>\n",
       "      <td>87.591781</td>\n",
       "    </tr>\n",
       "    <tr>\n",
       "      <td>std</td>\n",
       "      <td>1.138429e-12</td>\n",
       "      <td>8.538217e-14</td>\n",
       "      <td>4.838323e-13</td>\n",
       "      <td>3.454755e+02</td>\n",
       "      <td>214.003559</td>\n",
       "      <td>237.933326</td>\n",
       "      <td>81.964080</td>\n",
       "    </tr>\n",
       "    <tr>\n",
       "      <td>min</td>\n",
       "      <td>4.663000e+02</td>\n",
       "      <td>4.803550e+01</td>\n",
       "      <td>-9.801000e+01</td>\n",
       "      <td>2.010010e+07</td>\n",
       "      <td>-48.000000</td>\n",
       "      <td>138.000000</td>\n",
       "      <td>1.000000</td>\n",
       "    </tr>\n",
       "    <tr>\n",
       "      <td>25%</td>\n",
       "      <td>4.663000e+02</td>\n",
       "      <td>4.803550e+01</td>\n",
       "      <td>-9.801000e+01</td>\n",
       "      <td>2.010040e+07</td>\n",
       "      <td>73.000000</td>\n",
       "      <td>247.000000</td>\n",
       "      <td>27.000000</td>\n",
       "    </tr>\n",
       "    <tr>\n",
       "      <td>50%</td>\n",
       "      <td>4.663000e+02</td>\n",
       "      <td>4.803550e+01</td>\n",
       "      <td>-9.801000e+01</td>\n",
       "      <td>2.010070e+07</td>\n",
       "      <td>307.000000</td>\n",
       "      <td>531.000000</td>\n",
       "      <td>56.000000</td>\n",
       "    </tr>\n",
       "    <tr>\n",
       "      <td>75%</td>\n",
       "      <td>4.663000e+02</td>\n",
       "      <td>4.803550e+01</td>\n",
       "      <td>-9.801000e+01</td>\n",
       "      <td>2.010100e+07</td>\n",
       "      <td>489.000000</td>\n",
       "      <td>725.000000</td>\n",
       "      <td>131.000000</td>\n",
       "    </tr>\n",
       "    <tr>\n",
       "      <td>max</td>\n",
       "      <td>4.663000e+02</td>\n",
       "      <td>4.803550e+01</td>\n",
       "      <td>-9.801000e+01</td>\n",
       "      <td>2.010123e+07</td>\n",
       "      <td>567.000000</td>\n",
       "      <td>805.000000</td>\n",
       "      <td>376.000000</td>\n",
       "    </tr>\n",
       "  </tbody>\n",
       "</table>\n",
       "</div>"
      ],
      "text/plain": [
       "          ELEVATION      LATITUDE     LONGITUDE          DATE  \\\n",
       "count  3.650000e+02  3.650000e+02  3.650000e+02  3.650000e+02   \n",
       "mean   4.663000e+02  4.803550e+01 -9.801000e+01  2.010067e+07   \n",
       "std    1.138429e-12  8.538217e-14  4.838323e-13  3.454755e+02   \n",
       "min    4.663000e+02  4.803550e+01 -9.801000e+01  2.010010e+07   \n",
       "25%    4.663000e+02  4.803550e+01 -9.801000e+01  2.010040e+07   \n",
       "50%    4.663000e+02  4.803550e+01 -9.801000e+01  2.010070e+07   \n",
       "75%    4.663000e+02  4.803550e+01 -9.801000e+01  2.010100e+07   \n",
       "max    4.663000e+02  4.803550e+01 -9.801000e+01  2.010123e+07   \n",
       "\n",
       "       DLY-TMIN-NORMAL  DLY-TMAX-NORMAL  MTD-PRCP-NORMAL  \n",
       "count       365.000000       365.000000       365.000000  \n",
       "mean        282.035616       493.186301        87.591781  \n",
       "std         214.003559       237.933326        81.964080  \n",
       "min         -48.000000       138.000000         1.000000  \n",
       "25%          73.000000       247.000000        27.000000  \n",
       "50%         307.000000       531.000000        56.000000  \n",
       "75%         489.000000       725.000000       131.000000  \n",
       "max         567.000000       805.000000       376.000000  "
      ]
     },
     "execution_count": 9,
     "metadata": {},
     "output_type": "execute_result"
    }
   ],
   "source": [
    "#descriptive statistics summary\n",
    "Weather.describe()"
   ]
  },
  {
   "cell_type": "code",
   "execution_count": 10,
   "metadata": {},
   "outputs": [
    {
     "data": {
      "text/plain": [
       "STATION            False\n",
       "STATION_NAME       False\n",
       "ELEVATION          False\n",
       "LATITUDE           False\n",
       "LONGITUDE          False\n",
       "DATE               False\n",
       "DLY-TMIN-NORMAL    False\n",
       "DLY-TMAX-NORMAL    False\n",
       "MTD-PRCP-NORMAL    False\n",
       "dtype: bool"
      ]
     },
     "execution_count": 10,
     "metadata": {},
     "output_type": "execute_result"
    }
   ],
   "source": [
    "#Giving the information about the null value in the feature\n",
    "Weather.isnull().any()"
   ]
  },
  {
   "cell_type": "code",
   "execution_count": 11,
   "metadata": {},
   "outputs": [],
   "source": [
    "#Let's drop the target coloumn before we do train test split\n",
    "Weather.drop(['STATION','STATION_NAME','ELEVATION','LATITUDE','LONGITUDE'],axis=1,inplace=True)"
   ]
  },
  {
   "cell_type": "code",
   "execution_count": 12,
   "metadata": {},
   "outputs": [
    {
     "data": {
      "text/html": [
       "<div>\n",
       "<style scoped>\n",
       "    .dataframe tbody tr th:only-of-type {\n",
       "        vertical-align: middle;\n",
       "    }\n",
       "\n",
       "    .dataframe tbody tr th {\n",
       "        vertical-align: top;\n",
       "    }\n",
       "\n",
       "    .dataframe thead th {\n",
       "        text-align: right;\n",
       "    }\n",
       "</style>\n",
       "<table border=\"1\" class=\"dataframe\">\n",
       "  <thead>\n",
       "    <tr style=\"text-align: right;\">\n",
       "      <th></th>\n",
       "      <th>DATE</th>\n",
       "      <th>DLY-TMIN-NORMAL</th>\n",
       "      <th>DLY-TMAX-NORMAL</th>\n",
       "      <th>MTD-PRCP-NORMAL</th>\n",
       "    </tr>\n",
       "  </thead>\n",
       "  <tbody>\n",
       "    <tr>\n",
       "      <td>0</td>\n",
       "      <td>20100101</td>\n",
       "      <td>-33</td>\n",
       "      <td>145</td>\n",
       "      <td>2</td>\n",
       "    </tr>\n",
       "    <tr>\n",
       "      <td>1</td>\n",
       "      <td>20100102</td>\n",
       "      <td>-35</td>\n",
       "      <td>144</td>\n",
       "      <td>4</td>\n",
       "    </tr>\n",
       "    <tr>\n",
       "      <td>2</td>\n",
       "      <td>20100103</td>\n",
       "      <td>-36</td>\n",
       "      <td>143</td>\n",
       "      <td>5</td>\n",
       "    </tr>\n",
       "    <tr>\n",
       "      <td>3</td>\n",
       "      <td>20100104</td>\n",
       "      <td>-38</td>\n",
       "      <td>142</td>\n",
       "      <td>7</td>\n",
       "    </tr>\n",
       "    <tr>\n",
       "      <td>4</td>\n",
       "      <td>20100105</td>\n",
       "      <td>-39</td>\n",
       "      <td>141</td>\n",
       "      <td>9</td>\n",
       "    </tr>\n",
       "    <tr>\n",
       "      <td>...</td>\n",
       "      <td>...</td>\n",
       "      <td>...</td>\n",
       "      <td>...</td>\n",
       "      <td>...</td>\n",
       "    </tr>\n",
       "    <tr>\n",
       "      <td>360</td>\n",
       "      <td>20101227</td>\n",
       "      <td>-23</td>\n",
       "      <td>154</td>\n",
       "      <td>64</td>\n",
       "    </tr>\n",
       "    <tr>\n",
       "      <td>361</td>\n",
       "      <td>20101228</td>\n",
       "      <td>-25</td>\n",
       "      <td>152</td>\n",
       "      <td>67</td>\n",
       "    </tr>\n",
       "    <tr>\n",
       "      <td>362</td>\n",
       "      <td>20101229</td>\n",
       "      <td>-27</td>\n",
       "      <td>150</td>\n",
       "      <td>69</td>\n",
       "    </tr>\n",
       "    <tr>\n",
       "      <td>363</td>\n",
       "      <td>20101230</td>\n",
       "      <td>-29</td>\n",
       "      <td>148</td>\n",
       "      <td>71</td>\n",
       "    </tr>\n",
       "    <tr>\n",
       "      <td>364</td>\n",
       "      <td>20101231</td>\n",
       "      <td>-31</td>\n",
       "      <td>147</td>\n",
       "      <td>73</td>\n",
       "    </tr>\n",
       "  </tbody>\n",
       "</table>\n",
       "<p>365 rows × 4 columns</p>\n",
       "</div>"
      ],
      "text/plain": [
       "         DATE  DLY-TMIN-NORMAL  DLY-TMAX-NORMAL  MTD-PRCP-NORMAL\n",
       "0    20100101              -33              145                2\n",
       "1    20100102              -35              144                4\n",
       "2    20100103              -36              143                5\n",
       "3    20100104              -38              142                7\n",
       "4    20100105              -39              141                9\n",
       "..        ...              ...              ...              ...\n",
       "360  20101227              -23              154               64\n",
       "361  20101228              -25              152               67\n",
       "362  20101229              -27              150               69\n",
       "363  20101230              -29              148               71\n",
       "364  20101231              -31              147               73\n",
       "\n",
       "[365 rows x 4 columns]"
      ]
     },
     "execution_count": 12,
     "metadata": {},
     "output_type": "execute_result"
    }
   ],
   "source": [
    "Weather"
   ]
  },
  {
   "cell_type": "code",
   "execution_count": 13,
   "metadata": {},
   "outputs": [
    {
     "data": {
      "text/plain": [
       "<matplotlib.axes._subplots.AxesSubplot at 0x20c35ad71c8>"
      ]
     },
     "execution_count": 13,
     "metadata": {},
     "output_type": "execute_result"
    },
    {
     "data": {
      "image/png": "[encoded data removed]",
      "text/plain": [
       "<Figure size 432x288 with 1 Axes>"
      ]
     },
     "metadata": {
      "needs_background": "light"
     },
     "output_type": "display_data"
    }
   ],
   "source": [
    "#Exploring and visualizing the datset.\n",
    "sns.scatterplot(x='DLY-TMIN-NORMAL',y='DLY-TMAX-NORMAL',data=Weather,color='Red')"
   ]
  },
  {
   "cell_type": "code",
   "execution_count": 14,
   "metadata": {},
   "outputs": [
    {
     "data": {
      "text/plain": [
       "<seaborn.axisgrid.JointGrid at 0x20c3c14db88>"
      ]
     },
     "execution_count": 14,
     "metadata": {},
     "output_type": "execute_result"
    },
    {
     "data": {
      "image/png": "[encoded data removed]",
      "text/plain": [
       "<Figure size 432x432 with 3 Axes>"
      ]
     },
     "metadata": {
      "needs_background": "light"
     },
     "output_type": "display_data"
    }
   ],
   "source": [
    "#for visualization\n",
    "sns.jointplot(x='DLY-TMIN-NORMAL',y='DLY-TMAX-NORMAL',data=Weather,color='Red')"
   ]
  },
  {
   "cell_type": "code",
   "execution_count": 15,
   "metadata": {},
   "outputs": [
    {
     "data": {
      "text/plain": [
       "<seaborn.axisgrid.PairGrid at 0x20c3c2d1b88>"
      ]
     },
     "execution_count": 15,
     "metadata": {},
     "output_type": "execute_result"
    },
    {
     "data": {
      "image/png": "[encoded data removed]",
      "text/plain": [
       "<Figure size 720x720 with 20 Axes>"
      ]
     },
     "metadata": {
      "needs_background": "light"
     },
     "output_type": "display_data"
    }
   ],
   "source": [
    "# Visualization which is used for to show the summary.\n",
    "sns.pairplot(Weather)"
   ]
  },
  {
   "cell_type": "code",
   "execution_count": 16,
   "metadata": {},
   "outputs": [
    {
     "data": {
      "text/plain": [
       "<seaborn.axisgrid.FacetGrid at 0x20c3cb9aa08>"
      ]
     },
     "execution_count": 16,
     "metadata": {},
     "output_type": "execute_result"
    },
    {
     "data": {
      "image/png": "[encoded data removed]",
      "text/plain": [
       "<Figure size 360x360 with 1 Axes>"
      ]
     },
     "metadata": {
      "needs_background": "light"
     },
     "output_type": "display_data"
    }
   ],
   "source": [
    "#for visualization show the best line.\n",
    "sns.lmplot(x='DLY-TMIN-NORMAL',y='DLY-TMAX-NORMAL',data=Weather)"
   ]
  },
  {
   "cell_type": "code",
   "execution_count": 17,
   "metadata": {},
   "outputs": [],
   "source": [
    "X=Weather[['DLY-TMIN-NORMAL']] # input variable"
   ]
  },
  {
   "cell_type": "code",
   "execution_count": 18,
   "metadata": {},
   "outputs": [],
   "source": [
    "y=Weather['DLY-TMAX-NORMAL'] #target variable"
   ]
  },
  {
   "cell_type": "code",
   "execution_count": 19,
   "metadata": {},
   "outputs": [
    {
     "data": {
      "text/html": [
       "<div>\n",
       "<style scoped>\n",
       "    .dataframe tbody tr th:only-of-type {\n",
       "        vertical-align: middle;\n",
       "    }\n",
       "\n",
       "    .dataframe tbody tr th {\n",
       "        vertical-align: top;\n",
       "    }\n",
       "\n",
       "    .dataframe thead th {\n",
       "        text-align: right;\n",
       "    }\n",
       "</style>\n",
       "<table border=\"1\" class=\"dataframe\">\n",
       "  <thead>\n",
       "    <tr style=\"text-align: right;\">\n",
       "      <th></th>\n",
       "      <th>DLY-TMIN-NORMAL</th>\n",
       "    </tr>\n",
       "  </thead>\n",
       "  <tbody>\n",
       "    <tr>\n",
       "      <td>0</td>\n",
       "      <td>-33</td>\n",
       "    </tr>\n",
       "    <tr>\n",
       "      <td>1</td>\n",
       "      <td>-35</td>\n",
       "    </tr>\n",
       "    <tr>\n",
       "      <td>2</td>\n",
       "      <td>-36</td>\n",
       "    </tr>\n",
       "    <tr>\n",
       "      <td>3</td>\n",
       "      <td>-38</td>\n",
       "    </tr>\n",
       "    <tr>\n",
       "      <td>4</td>\n",
       "      <td>-39</td>\n",
       "    </tr>\n",
       "    <tr>\n",
       "      <td>...</td>\n",
       "      <td>...</td>\n",
       "    </tr>\n",
       "    <tr>\n",
       "      <td>360</td>\n",
       "      <td>-23</td>\n",
       "    </tr>\n",
       "    <tr>\n",
       "      <td>361</td>\n",
       "      <td>-25</td>\n",
       "    </tr>\n",
       "    <tr>\n",
       "      <td>362</td>\n",
       "      <td>-27</td>\n",
       "    </tr>\n",
       "    <tr>\n",
       "      <td>363</td>\n",
       "      <td>-29</td>\n",
       "    </tr>\n",
       "    <tr>\n",
       "      <td>364</td>\n",
       "      <td>-31</td>\n",
       "    </tr>\n",
       "  </tbody>\n",
       "</table>\n",
       "<p>365 rows × 1 columns</p>\n",
       "</div>"
      ],
      "text/plain": [
       "     DLY-TMIN-NORMAL\n",
       "0                -33\n",
       "1                -35\n",
       "2                -36\n",
       "3                -38\n",
       "4                -39\n",
       "..               ...\n",
       "360              -23\n",
       "361              -25\n",
       "362              -27\n",
       "363              -29\n",
       "364              -31\n",
       "\n",
       "[365 rows x 1 columns]"
      ]
     },
     "execution_count": 19,
     "metadata": {},
     "output_type": "execute_result"
    }
   ],
   "source": [
    "X"
   ]
  },
  {
   "cell_type": "code",
   "execution_count": 20,
   "metadata": {},
   "outputs": [
    {
     "data": {
      "text/plain": [
       "0      145\n",
       "1      144\n",
       "2      143\n",
       "3      142\n",
       "4      141\n",
       "      ... \n",
       "360    154\n",
       "361    152\n",
       "362    150\n",
       "363    148\n",
       "364    147\n",
       "Name: DLY-TMAX-NORMAL, Length: 365, dtype: int64"
      ]
     },
     "execution_count": 20,
     "metadata": {},
     "output_type": "execute_result"
    }
   ],
   "source": [
    "y"
   ]
  },
  {
   "cell_type": "code",
   "execution_count": 21,
   "metadata": {},
   "outputs": [],
   "source": [
    "# splitting the data in train set and test set.\n",
    "from sklearn.model_selection import train_test_split\n",
    "X_train,X_test,y_train,y_test=train_test_split(X,y,test_size=0.20,random_state=42)"
   ]
  },
  {
   "cell_type": "code",
   "execution_count": 22,
   "metadata": {},
   "outputs": [
    {
     "data": {
      "text/html": [
       "<div>\n",
       "<style scoped>\n",
       "    .dataframe tbody tr th:only-of-type {\n",
       "        vertical-align: middle;\n",
       "    }\n",
       "\n",
       "    .dataframe tbody tr th {\n",
       "        vertical-align: top;\n",
       "    }\n",
       "\n",
       "    .dataframe thead th {\n",
       "        text-align: right;\n",
       "    }\n",
       "</style>\n",
       "<table border=\"1\" class=\"dataframe\">\n",
       "  <thead>\n",
       "    <tr style=\"text-align: right;\">\n",
       "      <th></th>\n",
       "      <th>DLY-TMIN-NORMAL</th>\n",
       "    </tr>\n",
       "  </thead>\n",
       "  <tbody>\n",
       "    <tr>\n",
       "      <td>211</td>\n",
       "      <td>564</td>\n",
       "    </tr>\n",
       "    <tr>\n",
       "      <td>340</td>\n",
       "      <td>48</td>\n",
       "    </tr>\n",
       "    <tr>\n",
       "      <td>202</td>\n",
       "      <td>567</td>\n",
       "    </tr>\n",
       "    <tr>\n",
       "      <td>75</td>\n",
       "      <td>145</td>\n",
       "    </tr>\n",
       "    <tr>\n",
       "      <td>84</td>\n",
       "      <td>194</td>\n",
       "    </tr>\n",
       "    <tr>\n",
       "      <td>...</td>\n",
       "      <td>...</td>\n",
       "    </tr>\n",
       "    <tr>\n",
       "      <td>71</td>\n",
       "      <td>123</td>\n",
       "    </tr>\n",
       "    <tr>\n",
       "      <td>106</td>\n",
       "      <td>302</td>\n",
       "    </tr>\n",
       "    <tr>\n",
       "      <td>270</td>\n",
       "      <td>382</td>\n",
       "    </tr>\n",
       "    <tr>\n",
       "      <td>348</td>\n",
       "      <td>14</td>\n",
       "    </tr>\n",
       "    <tr>\n",
       "      <td>102</td>\n",
       "      <td>284</td>\n",
       "    </tr>\n",
       "  </tbody>\n",
       "</table>\n",
       "<p>292 rows × 1 columns</p>\n",
       "</div>"
      ],
      "text/plain": [
       "     DLY-TMIN-NORMAL\n",
       "211              564\n",
       "340               48\n",
       "202              567\n",
       "75               145\n",
       "84               194\n",
       "..               ...\n",
       "71               123\n",
       "106              302\n",
       "270              382\n",
       "348               14\n",
       "102              284\n",
       "\n",
       "[292 rows x 1 columns]"
      ]
     },
     "execution_count": 22,
     "metadata": {},
     "output_type": "execute_result"
    }
   ],
   "source": [
    "X_train"
   ]
  },
  {
   "cell_type": "code",
   "execution_count": 23,
   "metadata": {},
   "outputs": [
    {
     "data": {
      "text/html": [
       "<div>\n",
       "<style scoped>\n",
       "    .dataframe tbody tr th:only-of-type {\n",
       "        vertical-align: middle;\n",
       "    }\n",
       "\n",
       "    .dataframe tbody tr th {\n",
       "        vertical-align: top;\n",
       "    }\n",
       "\n",
       "    .dataframe thead th {\n",
       "        text-align: right;\n",
       "    }\n",
       "</style>\n",
       "<table border=\"1\" class=\"dataframe\">\n",
       "  <thead>\n",
       "    <tr style=\"text-align: right;\">\n",
       "      <th></th>\n",
       "      <th>DLY-TMIN-NORMAL</th>\n",
       "    </tr>\n",
       "  </thead>\n",
       "  <tbody>\n",
       "    <tr>\n",
       "      <td>193</td>\n",
       "      <td>565</td>\n",
       "    </tr>\n",
       "    <tr>\n",
       "      <td>33</td>\n",
       "      <td>-31</td>\n",
       "    </tr>\n",
       "    <tr>\n",
       "      <td>15</td>\n",
       "      <td>-47</td>\n",
       "    </tr>\n",
       "    <tr>\n",
       "      <td>309</td>\n",
       "      <td>218</td>\n",
       "    </tr>\n",
       "    <tr>\n",
       "      <td>57</td>\n",
       "      <td>52</td>\n",
       "    </tr>\n",
       "    <tr>\n",
       "      <td>...</td>\n",
       "      <td>...</td>\n",
       "    </tr>\n",
       "    <tr>\n",
       "      <td>203</td>\n",
       "      <td>567</td>\n",
       "    </tr>\n",
       "    <tr>\n",
       "      <td>82</td>\n",
       "      <td>183</td>\n",
       "    </tr>\n",
       "    <tr>\n",
       "      <td>94</td>\n",
       "      <td>246</td>\n",
       "    </tr>\n",
       "    <tr>\n",
       "      <td>192</td>\n",
       "      <td>565</td>\n",
       "    </tr>\n",
       "    <tr>\n",
       "      <td>325</td>\n",
       "      <td>129</td>\n",
       "    </tr>\n",
       "  </tbody>\n",
       "</table>\n",
       "<p>73 rows × 1 columns</p>\n",
       "</div>"
      ],
      "text/plain": [
       "     DLY-TMIN-NORMAL\n",
       "193              565\n",
       "33               -31\n",
       "15               -47\n",
       "309              218\n",
       "57                52\n",
       "..               ...\n",
       "203              567\n",
       "82               183\n",
       "94               246\n",
       "192              565\n",
       "325              129\n",
       "\n",
       "[73 rows x 1 columns]"
      ]
     },
     "execution_count": 23,
     "metadata": {},
     "output_type": "execute_result"
    }
   ],
   "source": [
    "X_test"
   ]
  },
  {
   "cell_type": "code",
   "execution_count": 24,
   "metadata": {},
   "outputs": [
    {
     "data": {
      "text/plain": [
       "(292, 1)"
      ]
     },
     "execution_count": 24,
     "metadata": {},
     "output_type": "execute_result"
    }
   ],
   "source": [
    "X_train.shape"
   ]
  },
  {
   "cell_type": "code",
   "execution_count": 25,
   "metadata": {},
   "outputs": [
    {
     "data": {
      "text/plain": [
       "193    791\n",
       "33     169\n",
       "15     140\n",
       "309    399\n",
       "57     236\n",
       "      ... \n",
       "203    800\n",
       "82     363\n",
       "94     448\n",
       "192    790\n",
       "325    294\n",
       "Name: DLY-TMAX-NORMAL, Length: 73, dtype: int64"
      ]
     },
     "execution_count": 25,
     "metadata": {},
     "output_type": "execute_result"
    }
   ],
   "source": [
    "y_test"
   ]
  },
  {
   "cell_type": "code",
   "execution_count": 26,
   "metadata": {},
   "outputs": [
    {
     "data": {
      "text/plain": [
       "LinearRegression(copy_X=True, fit_intercept=True, n_jobs=None, normalize=False)"
      ]
     },
     "execution_count": 26,
     "metadata": {},
     "output_type": "execute_result"
    }
   ],
   "source": [
    "from sklearn import linear_model\n",
    "regressor=linear_model.LinearRegression(fit_intercept=True)\n",
    "regressor.fit(X_train,y_train)#training the algorithm"
   ]
  },
  {
   "cell_type": "code",
   "execution_count": 27,
   "metadata": {},
   "outputs": [
    {
     "name": "stdout",
     "output_type": "stream",
     "text": [
      "Score: 0.995273424136983\n"
     ]
    }
   ],
   "source": [
    "print('Score:', regressor.score(X_test, y_test))"
   ]
  },
  {
   "cell_type": "code",
   "execution_count": 28,
   "metadata": {},
   "outputs": [
    {
     "name": "stdout",
     "output_type": "stream",
     "text": [
      "Linear Model coefficient (m) [1.10839531]\n",
      "Linear Model coefficient (b) 180.73787683458704\n"
     ]
    }
   ],
   "source": [
    "#Coefficient(b) & Intercept(m)\n",
    "print('Linear Model coefficient (m)',regressor.coef_)#To retrieve the slope:\n",
    "print('Linear Model coefficient (b)',regressor.intercept_ )#To retrieve the intercept:"
   ]
  },
  {
   "cell_type": "code",
   "execution_count": 29,
   "metadata": {},
   "outputs": [],
   "source": [
    "y_predict= regressor.predict(X_test)"
   ]
  },
  {
   "cell_type": "code",
   "execution_count": 30,
   "metadata": {},
   "outputs": [
    {
     "name": "stdout",
     "output_type": "stream",
     "text": [
      "Cross-validated scores: [-3.00968546  0.83494513  0.95164768  0.70733078  0.37667762 -2.71107408\n",
      "  0.77975571  0.84632078  0.86421742  0.76822334]\n"
     ]
    }
   ],
   "source": [
    "from sklearn.model_selection import cross_val_score, cross_val_predict\n",
    "# Perform 10-fold cross validation\n",
    "scores = cross_val_score(regressor, X, y, cv=10)\n",
    "print('Cross-validated scores:', scores)"
   ]
  },
  {
   "cell_type": "code",
   "execution_count": 31,
   "metadata": {},
   "outputs": [
    {
     "data": {
      "text/plain": [
       "Text(0, 0.5, 'actual Temp vs Temperature')"
      ]
     },
     "execution_count": 31,
     "metadata": {},
     "output_type": "execute_result"
    },
    {
     "data": {
      "image/png": "[encoded data removed]",
      "text/plain": [
       "<Figure size 432x288 with 1 Axes>"
      ]
     },
     "metadata": {
      "needs_background": "light"
     },
     "output_type": "display_data"
    }
   ],
   "source": [
    "plt.scatter(X_train, y_train,color='gray')\n",
    "plt.plot(X_train, regressor.predict(X_train),color='red')\n",
    "plt.xlabel('Temparture')\n",
    "plt.ylabel('actual Temp vs Temperature')"
   ]
  },
  {
   "cell_type": "code",
   "execution_count": 32,
   "metadata": {},
   "outputs": [
    {
     "name": "stdout",
     "output_type": "stream",
     "text": [
      "X_test shape k= 1\n",
      "length of X_Test n= 73\n"
     ]
    }
   ],
   "source": [
    "k=X_test.shape[1]\n",
    "n=len(X_test)\n",
    "print('X_test shape k=',k)\n",
    "print('length of X_Test n=',n)"
   ]
  },
  {
   "cell_type": "code",
   "execution_count": 33,
   "metadata": {},
   "outputs": [],
   "source": [
    "#Calculating RMSE,MSE,MAE,R2_SCORE,ADj_R2,MAPE\n",
    "RMSE=float(format(np.sqrt(mean_squared_error(y_test,y_predict)),'.3f'))\n",
    "MSE=mean_squared_error(y_test,y_predict)\n",
    "MAE=mean_absolute_error(y_test,y_predict)\n",
    "r2=r2_score(y_test,y_predict)\n",
    "adj_r2=1-(1-r2)*(n-1)/(n-k-1)\n",
    "MAPE=np.mean( np.abs((y_test-y_predict)/ y_test))*100"
   ]
  },
  {
   "cell_type": "code",
   "execution_count": 34,
   "metadata": {},
   "outputs": [
    {
     "name": "stdout",
     "output_type": "stream",
     "text": [
      "Root Mean Squared Error (RMSE)=  16.404\n",
      "Mean Squared Error(MSE)=  269.0839958118832\n",
      "Mean Absolute Error(MAE) 14.621082608556229\n",
      "r2=  0.995273424136983\n",
      "adj_r2=  0.9952068526459547\n",
      "mean absolute percentage error (MAPE)=  4.532646431495035\n"
     ]
    }
   ],
   "source": [
    "print('Root Mean Squared Error (RMSE)= ',RMSE)\n",
    "print('Mean Squared Error(MSE)= ',MSE)\n",
    "print('Mean Absolute Error(MAE)',MAE)\n",
    "print('r2= ',r2)\n",
    "print('adj_r2= ',adj_r2)\n",
    "print('mean absolute percentage error (MAPE)= ',MAPE)"
   ]
  },
  {
   "cell_type": "code",
   "execution_count": 35,
   "metadata": {},
   "outputs": [
    {
     "data": {
      "text/html": [
       "<table class=\"simpletable\">\n",
       "<caption>OLS Regression Results</caption>\n",
       "<tr>\n",
       "  <th>Dep. Variable:</th>     <td>DLY-TMAX-NORMAL</td> <th>  R-squared (uncentered):</th>      <td>   0.964</td> \n",
       "</tr>\n",
       "<tr>\n",
       "  <th>Model:</th>                   <td>OLS</td>       <th>  Adj. R-squared (uncentered):</th> <td>   0.964</td> \n",
       "</tr>\n",
       "<tr>\n",
       "  <th>Method:</th>             <td>Least Squares</td>  <th>  F-statistic:       </th>          <td>   7761.</td> \n",
       "</tr>\n",
       "<tr>\n",
       "  <th>Date:</th>             <td>Sat, 05 Sep 2020</td> <th>  Prob (F-statistic):</th>          <td>7.32e-212</td>\n",
       "</tr>\n",
       "<tr>\n",
       "  <th>Time:</th>                 <td>21:52:07</td>     <th>  Log-Likelihood:    </th>          <td> -1777.3</td> \n",
       "</tr>\n",
       "<tr>\n",
       "  <th>No. Observations:</th>      <td>   292</td>      <th>  AIC:               </th>          <td>   3557.</td> \n",
       "</tr>\n",
       "<tr>\n",
       "  <th>Df Residuals:</th>          <td>   291</td>      <th>  BIC:               </th>          <td>   3560.</td> \n",
       "</tr>\n",
       "<tr>\n",
       "  <th>Df Model:</th>              <td>     1</td>      <th>                     </th>              <td> </td>    \n",
       "</tr>\n",
       "<tr>\n",
       "  <th>Covariance Type:</th>      <td>nonrobust</td>    <th>                     </th>              <td> </td>    \n",
       "</tr>\n",
       "</table>\n",
       "<table class=\"simpletable\">\n",
       "<tr>\n",
       "         <td></td>            <th>coef</th>     <th>std err</th>      <th>t</th>      <th>P>|t|</th>  <th>[0.025</th>    <th>0.975]</th>  \n",
       "</tr>\n",
       "<tr>\n",
       "  <th>DLY-TMIN-NORMAL</th> <td>    1.5129</td> <td>    0.017</td> <td>   88.097</td> <td> 0.000</td> <td>    1.479</td> <td>    1.547</td>\n",
       "</tr>\n",
       "</table>\n",
       "<table class=\"simpletable\">\n",
       "<tr>\n",
       "  <th>Omnibus:</th>       <td>52.621</td> <th>  Durbin-Watson:     </th> <td>   1.265</td>\n",
       "</tr>\n",
       "<tr>\n",
       "  <th>Prob(Omnibus):</th> <td> 0.000</td> <th>  Jarque-Bera (JB):  </th> <td>  15.546</td>\n",
       "</tr>\n",
       "<tr>\n",
       "  <th>Skew:</th>          <td> 0.282</td> <th>  Prob(JB):          </th> <td>0.000421</td>\n",
       "</tr>\n",
       "<tr>\n",
       "  <th>Kurtosis:</th>      <td> 2.021</td> <th>  Cond. No.          </th> <td>    1.00</td>\n",
       "</tr>\n",
       "</table><br/><br/>Warnings:<br/>[1] Standard Errors assume that the covariance matrix of the errors is correctly specified."
      ],
      "text/plain": [
       "<class 'statsmodels.iolib.summary.Summary'>\n",
       "\"\"\"\n",
       "                                 OLS Regression Results                                \n",
       "=======================================================================================\n",
       "Dep. Variable:        DLY-TMAX-NORMAL   R-squared (uncentered):                   0.964\n",
       "Model:                            OLS   Adj. R-squared (uncentered):              0.964\n",
       "Method:                 Least Squares   F-statistic:                              7761.\n",
       "Date:                Sat, 05 Sep 2020   Prob (F-statistic):                   7.32e-212\n",
       "Time:                        21:52:07   Log-Likelihood:                         -1777.3\n",
       "No. Observations:                 292   AIC:                                      3557.\n",
       "Df Residuals:                     291   BIC:                                      3560.\n",
       "Df Model:                           1                                                  \n",
       "Covariance Type:            nonrobust                                                  \n",
       "===================================================================================\n",
       "                      coef    std err          t      P>|t|      [0.025      0.975]\n",
       "-----------------------------------------------------------------------------------\n",
       "DLY-TMIN-NORMAL     1.5129      0.017     88.097      0.000       1.479       1.547\n",
       "==============================================================================\n",
       "Omnibus:                       52.621   Durbin-Watson:                   1.265\n",
       "Prob(Omnibus):                  0.000   Jarque-Bera (JB):               15.546\n",
       "Skew:                           0.282   Prob(JB):                     0.000421\n",
       "Kurtosis:                       2.021   Cond. No.                         1.00\n",
       "==============================================================================\n",
       "\n",
       "Warnings:\n",
       "[1] Standard Errors assume that the covariance matrix of the errors is correctly specified.\n",
       "\"\"\""
      ]
     },
     "execution_count": 35,
     "metadata": {},
     "output_type": "execute_result"
    }
   ],
   "source": [
    "import statsmodels.api as sn\n",
    "res = sn.OLS(y_train, X_train).fit()\n",
    "res.summary()"
   ]
  },
  {
   "cell_type": "code",
   "execution_count": 36,
   "metadata": {},
   "outputs": [],
   "source": [
    "y_predict=regressor.predict(X_test)"
   ]
  },
  {
   "cell_type": "code",
   "execution_count": 38,
   "metadata": {},
   "outputs": [
    {
     "name": "stdout",
     "output_type": "stream",
     "text": [
      "Score: 0.995273424136983\n"
     ]
    },
    {
     "data": {
      "image/png": "[encoded data removed]",
      "text/plain": [
       "<Figure size 432x288 with 1 Axes>"
      ]
     },
     "metadata": {
      "needs_background": "light"
     },
     "output_type": "display_data"
    }
   ],
   "source": [
    "plt.scatter(y_test,y_predict,color='red')\n",
    "plt.xlabel(\"true values\")\n",
    "plt.ylabel(\"predicted values\")\n",
    "plt.title(\"Simple linear regression\")\n",
    "print('Score:', regressor.score(X_test, y_test))"
   ]
  },
  {
   "cell_type": "code",
   "execution_count": 39,
   "metadata": {},
   "outputs": [
    {
     "data": {
      "text/html": [
       "<div>\n",
       "<style scoped>\n",
       "    .dataframe tbody tr th:only-of-type {\n",
       "        vertical-align: middle;\n",
       "    }\n",
       "\n",
       "    .dataframe tbody tr th {\n",
       "        vertical-align: top;\n",
       "    }\n",
       "\n",
       "    .dataframe thead th {\n",
       "        text-align: right;\n",
       "    }\n",
       "</style>\n",
       "<table border=\"1\" class=\"dataframe\">\n",
       "  <thead>\n",
       "    <tr style=\"text-align: right;\">\n",
       "      <th></th>\n",
       "      <th>coefficients</th>\n",
       "    </tr>\n",
       "  </thead>\n",
       "  <tbody>\n",
       "    <tr>\n",
       "      <td>DLY-TMIN-NORMAL</td>\n",
       "      <td>1.108395</td>\n",
       "    </tr>\n",
       "  </tbody>\n",
       "</table>\n",
       "</div>"
      ],
      "text/plain": [
       "                 coefficients\n",
       "DLY-TMIN-NORMAL      1.108395"
      ]
     },
     "execution_count": 39,
     "metadata": {},
     "output_type": "execute_result"
    }
   ],
   "source": [
    "coeff_df=pd.DataFrame(regressor.coef_, X.columns,columns=['coefficients'])\n",
    "coeff_df"
   ]
  },
  {
   "cell_type": "code",
   "execution_count": null,
   "metadata": {},
   "outputs": [],
   "source": []
  }
 ],
 "metadata": {
  "kernelspec": {
   "display_name": "Python 3",
   "language": "python",
   "name": "python3"
  },
  "language_info": {
   "codemirror_mode": {
    "name": "ipython",
    "version": 3
   },
   "file_extension": ".py",
   "mimetype": "text/x-python",
   "name": "python",
   "nbconvert_exporter": "python",
   "pygments_lexer": "ipython3",
   "version": "3.7.4"
  }
 },
 "nbformat": 4,
 "nbformat_minor": 4
}
